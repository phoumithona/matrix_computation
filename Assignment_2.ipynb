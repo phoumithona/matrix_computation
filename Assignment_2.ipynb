{
  "nbformat": 4,
  "nbformat_minor": 0,
  "metadata": {
    "colab": {
      "name": "Assignment_2.ipynb",
      "provenance": [],
      "collapsed_sections": [],
      "authorship_tag": "ABX9TyM44rhgtXxk40hETVPJszY+",
      "include_colab_link": true
    },
    "kernelspec": {
      "name": "python3",
      "display_name": "Python 3"
    }
  },
  "cells": [
    {
      "cell_type": "markdown",
      "metadata": {
        "id": "view-in-github",
        "colab_type": "text"
      },
      "source": [
        "<a href=\"https://colab.research.google.com/github/phoumithona/matrix_computation/blob/master/Assignment_2.ipynb\" target=\"_parent\"><img src=\"https://colab.research.google.com/assets/colab-badge.svg\" alt=\"Open In Colab\"/></a>"
      ]
    },
    {
      "cell_type": "code",
      "metadata": {
        "id": "9P0XK6e7VNli",
        "colab_type": "code",
        "colab": {}
      },
      "source": [
        "import random\n",
        "import numpy as np\n",
        "import matplotlib.pyplot as plt"
      ],
      "execution_count": 0,
      "outputs": []
    },
    {
      "cell_type": "code",
      "metadata": {
        "id": "9I8DpdGpiRjm",
        "colab_type": "code",
        "outputId": "efd7dbb7-cfbf-4c8c-cde4-4be83eea1982",
        "colab": {
          "base_uri": "https://localhost:8080/",
          "height": 265
        }
      },
      "source": [
        "# 1. Input Data:\n",
        "\n",
        "m = 100   # number of points\n",
        "a = 3     \n",
        "b = 4\n",
        "x = 2*np.random.rand(m, 1) \n",
        "Y = a*x + b\n",
        "n = np.random.randn(m, 1) \n",
        "y = Y + n\n",
        "\n",
        "plt.plot(x, y, \"k.\")\n",
        "plt.plot(x,Y,'b')\n",
        "plt.show()"
      ],
      "execution_count": 2,
      "outputs": [
        {
          "output_type": "display_data",
          "data": {
            "image/png": "[encoded data removed]",
            "text/plain": [
              "<Figure size 432x288 with 1 Axes>"
            ]
          },
          "metadata": {
            "tags": [],
            "needs_background": "light"
          }
        }
      ]
    },
    {
      "cell_type": "code",
      "metadata": {
        "id": "G-cOiclMl0BK",
        "colab_type": "code",
        "outputId": "87f46a67-cb9e-4b71-c920-d5c1b70d1963",
        "colab": {
          "base_uri": "https://localhost:8080/",
          "height": 265
        }
      },
      "source": [
        "# 2. Output Results\n",
        "\n",
        "# Initial parameters to estimate:\n",
        "theta_0 = 5\n",
        "theta_1 = 0.01\n",
        "alpha = 0.1    # learning rate\n",
        "n_iterations = 1000   # number of interations\n",
        "\n",
        "store_j = []\n",
        "store_theta_0 = []  \n",
        "store_theta_1 = []\n",
        "\n",
        "for iteration in range(n_iterations):\n",
        "  h = theta_0 + theta_1*x       # hypothesis equation\n",
        "  j = (1/(2*m))*sum((h-y)**2)   # cost function\n",
        "  store_j.append(j)\n",
        "\n",
        "  # update equations:\n",
        "  theta_0 = theta_0 - alpha*(1/m)*sum(h-y)\n",
        "  store_theta_0.append(theta_0)\n",
        "  theta_1 = theta_1 - alpha*(1/m)*sum((h-y)*x)\n",
        "  store_theta_1.append(theta_1)\n",
        "\n",
        "plt.plot(x, y, \"k.\")\n",
        "plt.plot(x, h, \"r\")\n",
        "plt.show()"
      ],
      "execution_count": 3,
      "outputs": [
        {
          "output_type": "display_data",
          "data": {
            "image/png": "[encoded data removed]",
            "text/plain": [
              "<Figure size 432x288 with 1 Axes>"
            ]
          },
          "metadata": {
            "tags": [],
            "needs_background": "light"
          }
        }
      ]
    },
    {
      "cell_type": "code",
      "metadata": {
        "id": "-Lt_Y_fmpENn",
        "colab_type": "code",
        "outputId": "3f53a11f-d355-4f17-fa9c-70af49c40ea3",
        "colab": {
          "base_uri": "https://localhost:8080/",
          "height": 269
        }
      },
      "source": [
        "# 3. Plotting The Energy Values:\n",
        "plt.plot(store_j, \"b\")\n",
        "plt.show()"
      ],
      "execution_count": 4,
      "outputs": [
        {
          "output_type": "display_data",
          "data": {
            "image/png": "[encoded data removed]",
            "text/plain": [
              "<Figure size 432x288 with 1 Axes>"
            ]
          },
          "metadata": {
            "tags": [],
            "needs_background": "light"
          }
        }
      ]
    },
    {
      "cell_type": "code",
      "metadata": {
        "id": "_jhlObXGq-6Y",
        "colab_type": "code",
        "outputId": "435c419b-eacb-4f19-fe75-3934192250a6",
        "colab": {
          "base_uri": "https://localhost:8080/",
          "height": 269
        }
      },
      "source": [
        "# Plotting The Model Parameters:\n",
        "plt.plot(store_theta_0, \"r\")\n",
        "plt.plot(store_theta_1, \"b\")\n",
        "plt.show()"
      ],
      "execution_count": 5,
      "outputs": [
        {
          "output_type": "display_data",
          "data": {
            "image/png": "[encoded data removed]",
            "text/plain": [
              "<Figure size 432x288 with 1 Axes>"
            ]
          },
          "metadata": {
            "tags": [],
            "needs_background": "light"
          }
        }
      ]
    }
  ]
}