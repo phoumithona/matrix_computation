{
  "nbformat": 4,
  "nbformat_minor": 0,
  "metadata": {
    "colab": {
      "name": "Assignment_9.ipynb",
      "provenance": [],
      "authorship_tag": "ABX9TyPzCrDpIlf2O25lc1VfjNFP",
      "include_colab_link": true
    },
    "kernelspec": {
      "name": "python3",
      "display_name": "Python 3"
    }
  },
  "cells": [
    {
      "cell_type": "markdown",
      "metadata": {
        "id": "view-in-github",
        "colab_type": "text"
      },
      "source": [
        "<a href=\"https://colab.research.google.com/github/phoumithona/matrix_computation/blob/master/Assignment_9.ipynb\" target=\"_parent\"><img src=\"https://colab.research.google.com/assets/colab-badge.svg\" alt=\"Open In Colab\"/></a>"
      ]
    },
    {
      "cell_type": "code",
      "metadata": {
        "id": "gH5yCmNU2aqw",
        "colab_type": "code",
        "colab": {}
      },
      "source": [
        "import matplotlib.pyplot as plt\n",
        "import numpy as np\n",
        "import matplotlib.cm as cm \n",
        "import time\n",
        "\n",
        "file_data   = \"mnist.csv\"\n",
        "handle_file = open(file_data, \"r\")\n",
        "data        = handle_file.readlines()\n",
        "handle_file.close()\n",
        "\n",
        "size_row    = 28    # height of the image\n",
        "size_col    = 28    # width of the image\n",
        "\n",
        "num_image   = len(data)\n",
        "count       = 0     # count for the number of images\n",
        "\n",
        "# normalize the values of the input data to be [0, 1]\n",
        "def normalize(data):\n",
        "    data_normalized = (data - min(data)) / (max(data) - min(data))\n",
        "    return(data_normalized)\n",
        "\n",
        "# make a matrix each column of which represents an images in a vector form\n",
        "list_image  = np.empty((size_row * size_col, num_image), dtype=float)\n",
        "list_label  = np.empty(num_image, dtype=int)\n",
        "\n",
        "for line in data:\n",
        "    line_data   = line.split(',')\n",
        "    label       = line_data[0]\n",
        "    im_vector   = np.asfarray(line_data[1:])\n",
        "    im_vector   = normalize(im_vector)\n",
        "\n",
        "    list_label[count]       = label\n",
        "    list_image[:, count]    = im_vector\n",
        "\n",
        "    count += 1"
      ],
      "execution_count": 0,
      "outputs": []
    },
    {
      "cell_type": "code",
      "metadata": {
        "id": "dbZz-sJ-3T1o",
        "colab_type": "code",
        "colab": {
          "base_uri": "https://localhost:8080/",
          "height": 90
        },
        "outputId": "f817626b-cb10-4fef-fb39-38c836882df5"
      },
      "source": [
        "# split dataset\n",
        "train_label = list_label[:6000,]  # 6000 rows training label\n",
        "test_label  = list_label[6000:,]  # 4000 rows testing label\n",
        "train_image = list_image[:,:6000] # 6000 rows training image\n",
        "test_image  = list_image[:,6000:] # 4000 rows testing image\n",
        "\n",
        "# data transposed\n",
        "x_train = train_image.T\n",
        "y_train = train_label.T\n",
        "x_test  = test_image.T\n",
        "y_test  = test_label.T\n",
        "\n",
        "print('train_image', x_train.shape)\n",
        "print('train_label', y_train.shape)\n",
        "print('test_image', x_test.shape)\n",
        "print('test_label', y_test.shape)"
      ],
      "execution_count": 3,
      "outputs": [
        {
          "output_type": "stream",
          "text": [
            "train_image (6000, 784)\n",
            "train_label (6000,)\n",
            "test_image (4000, 784)\n",
            "test_label (4000,)\n"
          ],
          "name": "stdout"
        }
      ]
    }
  ]
}