{
  "nbformat": 4,
  "nbformat_minor": 0,
  "metadata": {
    "colab": {
      "name": "Assignment_9.ipynb",
      "provenance": [],
      "authorship_tag": "ABX9TyN4Uzlcl2tiSrrGcw4otv8m",
      "include_colab_link": true
    },
    "kernelspec": {
      "name": "python3",
      "display_name": "Python 3"
    }
  },
  "cells": [
    {
      "cell_type": "markdown",
      "metadata": {
        "id": "view-in-github",
        "colab_type": "text"
      },
      "source": [
        "<a href=\"https://colab.research.google.com/github/phoumithona/matrix_computation/blob/master/Assignment_9.ipynb\" target=\"_parent\"><img src=\"https://colab.research.google.com/assets/colab-badge.svg\" alt=\"Open In Colab\"/></a>"
      ]
    },
    {
      "cell_type": "code",
      "metadata": {
        "id": "gH5yCmNU2aqw",
        "colab_type": "code",
        "colab": {}
      },
      "source": [
        "import matplotlib.pyplot as plt\n",
        "import numpy as np\n",
        "import matplotlib.cm as cm \n",
        "import time\n",
        "\n",
        "file_data   = \"mnist.csv\"\n",
        "handle_file = open(file_data, \"r\")\n",
        "data        = handle_file.readlines()\n",
        "handle_file.close()\n",
        "\n",
        "size_row    = 28    # height of the image\n",
        "size_col    = 28    # width of the image\n",
        "\n",
        "num_image   = len(data)\n",
        "count       = 0     # count for the number of images\n",
        "\n",
        "# normalize the values of the input data to be [0, 1]\n",
        "def normalize(data):\n",
        "    data_normalized = (data - min(data)) / (max(data) - min(data))\n",
        "    return(data_normalized)\n",
        "\n",
        "# make a matrix each column of which represents an images in a vector form\n",
        "list_image  = np.empty((size_row * size_col, num_image), dtype=float)\n",
        "list_label  = np.empty(num_image, dtype=int)\n",
        "\n",
        "for line in data:\n",
        "    line_data   = line.split(',')\n",
        "    label       = line_data[0]\n",
        "    im_vector   = np.asfarray(line_data[1:])\n",
        "    im_vector   = normalize(im_vector)\n",
        "\n",
        "    list_label[count]       = label\n",
        "    list_image[:, count]    = im_vector\n",
        "\n",
        "    count += 1"
      ],
      "execution_count": 0,
      "outputs": []
    },
    {
      "cell_type": "code",
      "metadata": {
        "id": "dbZz-sJ-3T1o",
        "colab_type": "code",
        "colab": {
          "base_uri": "https://localhost:8080/",
          "height": 90
        },
        "outputId": "f817626b-cb10-4fef-fb39-38c836882df5"
      },
      "source": [
        "# split dataset\n",
        "train_label = list_label[:6000,]  # 6000 rows training label\n",
        "test_label  = list_label[6000:,]  # 4000 rows testing label\n",
        "train_image = list_image[:,:6000] # 6000 rows training image\n",
        "test_image  = list_image[:,6000:] # 4000 rows testing image\n",
        "\n",
        "# data transposed\n",
        "x_train = train_image.T\n",
        "y_train = train_label.T\n",
        "x_test  = test_image.T\n",
        "y_test  = test_label.T\n",
        "\n",
        "print('train_image', x_train.shape)\n",
        "print('train_label', y_train.shape)\n",
        "print('test_image', x_test.shape)\n",
        "print('test_label', y_test.shape)"
      ],
      "execution_count": 3,
      "outputs": [
        {
          "output_type": "stream",
          "text": [
            "train_image (6000, 784)\n",
            "train_label (6000,)\n",
            "test_image (4000, 784)\n",
            "test_label (4000,)\n"
          ],
          "name": "stdout"
        }
      ]
    },
    {
      "cell_type": "code",
      "metadata": {
        "id": "jcuvRkfs3oDR",
        "colab_type": "code",
        "colab": {
          "base_uri": "https://localhost:8080/",
          "height": 199
        },
        "outputId": "e3ffb4b5-69b6-4861-bbaf-8525431c085f"
      },
      "source": [
        "# images count for each label\n",
        "y_value = np.zeros((1,10))\n",
        "for i in range (10):\n",
        "    print(\"label:\",i,\"=\",np.count_nonzero(y_train==i))\n",
        "    y_value[0,i-1] = np.count_nonzero(y_train==i)"
      ],
      "execution_count": 4,
      "outputs": [
        {
          "output_type": "stream",
          "text": [
            "label: 0 = 568\n",
            "label: 1 = 686\n",
            "label: 2 = 625\n",
            "label: 3 = 595\n",
            "label: 4 = 599\n",
            "label: 5 = 548\n",
            "label: 6 = 562\n",
            "label: 7 = 609\n",
            "label: 8 = 587\n",
            "label: 9 = 621\n"
          ],
          "name": "stdout"
        }
      ]
    },
    {
      "cell_type": "code",
      "metadata": {
        "id": "Qaiq5mTk3pbW",
        "colab_type": "code",
        "colab": {}
      },
      "source": [
        "class DeepNeuralNetwork():\n",
        "    \n",
        "    def __init__(self, sizes, epochs = 10, lr = 0.001):\n",
        "        self.sizes = sizes\n",
        "        self.epochs = epochs\n",
        "        self.l_rate = lr\n",
        "\n",
        "        # we save all parameters in the neural network in this dictionary\n",
        "        self.params = self.initialization()\n",
        "\n",
        "    def sigmoid(self, Z, derivative=False):\n",
        "        if derivative:\n",
        "            return (np.exp(-Z))/((np.exp(-Z)+1)**2)\n",
        "        return 1/(1 + np.exp(-Z))\n",
        "\n",
        "    def initialization(self):\n",
        "        # number of nodes in each layer\n",
        "        x = self.sizes[0]   # input layer: x\n",
        "        y = self.sizes[1]   # first hidden layer: y\n",
        "        z = self.sizes[2]   # second hidden layer: z\n",
        "        h = self.sizes[3]   # output layer: h\n",
        "\n",
        "        params = {\n",
        "            'u':np.random.randn(y, x) * np.sqrt(1. / y),\n",
        "            'v':np.random.randn(z, y) * np.sqrt(1. / z),\n",
        "            'w':np.random.randn(h, z) * np.sqrt(1. / h)\n",
        "        }\n",
        "\n",
        "        return params\n",
        "    \n",
        "    def forward_pass(self, x_train):\n",
        "        params = self.params\n",
        "\n",
        "        # input layer activations becomes sample\n",
        "        params['A0'] = x_train\n",
        "\n",
        "        # input layer to first hidden layer\n",
        "        params['Z1'] = np.dot(params[\"u\"], params['A0'])\n",
        "        params['A1'] = self.sigmoid(params['Z1'])\n",
        "\n",
        "        # frist hidden layer to second hidden layer\n",
        "        params['Z2'] = np.dot(params[\"v\"], params['A1'])\n",
        "        params['A2'] = self.sigmoid(params['Z2'])\n",
        "\n",
        "        # second hidden layer to output layer\n",
        "        params['Z3'] = np.dot(params[\"w\"], params['A2'])\n",
        "        params['A3'] = self.sigmoid(params['Z3'])\n",
        "\n",
        "        return params['A3']\n",
        "    \n",
        "        # Function to calculate the loss\n",
        "    def calculate_cost(self, A3, y_train):\n",
        "        cost = -np.sum(np.multiply(y_train, np.log(A3)) +  np.multiply(1-y_train, np.log(1-A3)))/m\n",
        "        cost = np.squeeze(cost)\n",
        "        return cost\n",
        "    \n",
        "    def backward_pass(self, y_train, output):\n",
        "        params = self.params\n",
        "        change_w = {}\n",
        "\n",
        "        # Calculate w update\n",
        "        error = output - y_train\n",
        "        change_w['w'] = np.dot(error, params['A3'])\n",
        "\n",
        "        # Calculate v update\n",
        "        error = np.multiply( np.dot(params['w'].T, error), self.sigmoid(params['Z2'], derivative=True) )\n",
        "        change_w['v'] = np.dot(error, params['A2'])\n",
        "\n",
        "        # Calculate u update\n",
        "        error = np.multiply( np.dot(params['v'].T, error), self.sigmoid(params['Z1'], derivative=True) )\n",
        "        change_w['u'] = np.dot(error, params['A1'])\n",
        "\n",
        "        return change_w\n",
        "    \n",
        "    def update_network_parameters(self, changes_to_w):\n",
        "        for key, value in changes_to_w.items():\n",
        "            for w_arr in self.params[key]:\n",
        "                w_arr -= self.l_rate * value\n",
        "\n",
        "    def compute_accuracy(self, x_test, y_test):\n",
        "        predictions = []\n",
        "        for x, y in zip(x_test, y_test):\n",
        "            output = self.forward_pass(x)\n",
        "            pred = np.argmax(output)\n",
        "            predictions.append(pred == y)\n",
        "        \n",
        "        summed = sum(pred for pred in predictions) / 100.0\n",
        "        return np.average(summed)\n",
        "\n",
        "    def train(self, x_train, y_train, x_test, y_test):\n",
        "        \n",
        "        start_time = time.time()\n",
        "        for iteration in range(self.epochs):\n",
        "            for x,y in zip(x_train, y_train):\n",
        "                output = self.forward_pass(x)\n",
        "                changes_to_w = self.backward_pass(y, output)\n",
        "                self.update_network_parameters(changes_to_w)\n",
        "            \n",
        "            accuracy = self.compute_accuracy(x_test, y_test)\n",
        "            print('Epoch: {0}, Time Spent: {1:.2f}s, Accuracy: {2}'.format(\n",
        "                iteration+1, time.time() - start_time, accuracy\n",
        "                \n",
        "              ))"
      ],
      "execution_count": 0,
      "outputs": []
    }
  ]
}