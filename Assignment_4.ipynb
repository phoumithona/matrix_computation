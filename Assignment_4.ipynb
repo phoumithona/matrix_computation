{
  "nbformat": 4,
  "nbformat_minor": 0,
  "metadata": {
    "colab": {
      "name": "Assignment_4",
      "provenance": [],
      "collapsed_sections": [],
      "authorship_tag": "ABX9TyMGuCWw4h+GM2D/h4+zoC60",
      "include_colab_link": true
    },
    "kernelspec": {
      "name": "python3",
      "display_name": "Python 3"
    }
  },
  "cells": [
    {
      "cell_type": "markdown",
      "metadata": {
        "id": "view-in-github",
        "colab_type": "text"
      },
      "source": [
        "<a href=\"https://colab.research.google.com/github/phoumithona/matrix_computation/blob/master/Assignment_4.ipynb\" target=\"_parent\"><img src=\"https://colab.research.google.com/assets/colab-badge.svg\" alt=\"Open In Colab\"/></a>"
      ]
    },
    {
      "cell_type": "code",
      "metadata": {
        "id": "HCheeLsYhns0",
        "colab_type": "code",
        "colab": {}
      },
      "source": [
        "import csv\n",
        "import numpy as np\n",
        "import matplotlib.pyplot as plt\n",
        "# initial variables\n",
        "xtrain = []\n",
        "ytrain = []\n",
        "ztrain = []\n",
        "htrain = []\n",
        "xtest = []\n",
        "ytest = []\n",
        "ztest = []\n",
        "htest = []\n",
        "\n",
        "with open('data_train.csv', newline='') as myfile: # open data_train as 'myfile'\n",
        "    reader  = csv.reader(myfile, delimiter=',')\n",
        "    ct = 1 \n",
        "    for i in reader:\n",
        "    #     print('[', ct, ']', 'x =', i[0], ', y = ', i[1], ', z = ', i[2], ', h = ', i[3])\n",
        "        xtrain.append(i[0])  \n",
        "        ytrain.append(i[1])\n",
        "        ztrain.append(i[2])  \n",
        "        htrain.append(i[3])\n",
        "        ct += 1\n",
        "# coverting string to float\n",
        "x_train = np.array([float(i) for i in xtrain])\n",
        "y_train = np.array([float(i) for i in ytrain])\n",
        "z_train = np.array([float(i) for i in ztrain])\n",
        "h_train = np.array([float(i) for i in htrain])\n",
        "\n",
        "with open('data_test.csv', newline='') as myfile: # open data_test as 'myfile'\n",
        "    reader  = csv.reader(myfile, delimiter=',')\n",
        "    ct = 1 \n",
        "    for i in reader:\n",
        "    #     print('[', ct, ']', 'x =', i[0], ', y = ', i[1], ', z = ', i[2], ', h = ', i[3])\n",
        "        xtest.append(i[0]) \n",
        "        ytest.append(i[1])\n",
        "        ztest.append(i[2])\n",
        "        htest.append(i[3])\n",
        "        ct += 1\n",
        "x_test = np.array([float(i) for i in xtest])\n",
        "y_test = np.array([float(i) for i in ytest])\n",
        "z_test = np.array([float(i) for i in ztest])\n",
        "h_test = np.array([float(i) for i in htest])"
      ],
      "execution_count": 0,
      "outputs": []
    },
    {
      "cell_type": "markdown",
      "metadata": {
        "id": "yEBH7w617rI0",
        "colab_type": "text"
      },
      "source": [
        "###1. Plot the estimated parameters using the training dataset $\\{ (\\theta_0, \\theta_1, \\theta_2, \\theta_3) \\}$"
      ]
    },
    {
      "cell_type": "code",
      "metadata": {
        "id": "m38mQepN8PlH",
        "colab_type": "code",
        "cellView": "both",
        "colab": {
          "base_uri": "https://localhost:8080/",
          "height": 363
        },
        "outputId": "4c47fb5a-2ba7-410f-dd61-f9548ee128aa"
      },
      "source": [
        "# initial value for theta_0,1,2,3\n",
        "theta_0 = np.random.normal(0,1)\n",
        "theta_1 = np.random.normal(0,1)\n",
        "theta_2 = np.random.normal(0,1)\n",
        "theta_3 = np.random.normal(0,1)\n",
        "\n",
        "alpha = 0.00000001   # learning rate\n",
        "iterations = 5000    # number of iterations\n",
        "m = len(xtrain)      # number of features\n",
        "\n",
        "j1= []\n",
        "j2 = []\n",
        "theta0 = []\n",
        "theta1 = []\n",
        "theta2 = []\n",
        "theta3 = []\n",
        "# loop for updating with iterations\n",
        "for i in range (iterations):\n",
        "    f = theta_0 + theta_1 * x_train + theta_2 * y_train + theta_3 * z_train\n",
        "    temp_j1 = (1/(2*m))*(sum(theta_0 + theta_1*x_train + theta_2*y_train + theta_3*z_train - h_train)**2)\n",
        "    j1.append(temp_j1)\n",
        "    temp_j2 = (1/(2*m))*(sum(theta_0 + theta_1*x_test + theta_2*y_test + theta_3*z_test - h_test)**2)\n",
        "    j2.append(temp_j2)\n",
        "               \n",
        "    theta_0 = theta_0 - (alpha/m)*(sum(f - h_train))\n",
        "    theta0.append(theta_0)\n",
        "    theta_1 = theta_1 - (alpha/m)*(sum((f - h_train)*x_train))\n",
        "    theta1.append(theta_1)\n",
        "    theta_2 = theta_2 - (alpha/m)*(sum((f - h_train)*y_train))\n",
        "    theta2.append(theta_2)\n",
        "    theta_3 = theta_3 - (alpha/m)*(sum((f - h_train)*z_train))\n",
        "    theta3.append(theta_3)\n",
        "# printing the final theta values             \n",
        "print('Theta_0 = ',theta_0)\n",
        "print('Theta_1 = ',theta_1)\n",
        "print('Theta_2 = ',theta_2)\n",
        "print('Theta_3 = ',theta_3)\n",
        "\n",
        "plt.plot(theta0,'k')\n",
        "plt.plot(theta1,'r')\n",
        "plt.plot(theta2,'g')\n",
        "plt.plot(theta3,'b')\n",
        "plt.xlabel('iterations')\n",
        "plt.ylabel('$\\Theta_{0,1,2,3}$')\n",
        "plt.legend(['$ \\Theta_0 $','$ \\Theta_1 $','$ \\Theta_2 $','$ \\Theta_3 $'])\n",
        "plt.title('Model Parameters')\n",
        "plt.show()"
      ],
      "execution_count": 2,
      "outputs": [
        {
          "output_type": "stream",
          "text": [
            "Theta_0 =  1.5203577423534216\n",
            "Theta_1 =  0.6819818426257609\n",
            "Theta_2 =  1.4260602338374437\n",
            "Theta_3 =  0.8408333013910286\n"
          ],
          "name": "stdout"
        },
        {
          "output_type": "display_data",
          "data": {
            "image/png": "[encoded data removed]",
            "text/plain": [
              "<Figure size 432x288 with 1 Axes>"
            ]
          },
          "metadata": {
            "tags": [],
            "needs_background": "light"
          }
        }
      ]
    },
    {
      "cell_type": "markdown",
      "metadata": {
        "id": "VKzHYT-275cF",
        "colab_type": "text"
      },
      "source": [
        "###2. Plot the training error using the training dataset $J(\\theta_0, \\theta_1, \\theta_2, \\theta_3)$"
      ]
    },
    {
      "cell_type": "code",
      "metadata": {
        "id": "j49MbPTR6H63",
        "colab_type": "code",
        "colab": {
          "base_uri": "https://localhost:8080/",
          "height": 312
        },
        "outputId": "4325a302-500d-4ae9-ec6e-09dbd287d17b"
      },
      "source": [
        "plt.plot(j1,'b')\n",
        "print('Training Error = ', j1[len(j1)-1])\n",
        "plt.xlabel('iterations')\n",
        "plt.ylabel('Error')\n",
        "plt.legend(('J'))\n",
        "plt.title('Training Error')\n",
        "plt.show() # plot error for training data"
      ],
      "execution_count": 3,
      "outputs": [
        {
          "output_type": "stream",
          "text": [
            "Training Error =  8022.4159686387275\n"
          ],
          "name": "stdout"
        },
        {
          "output_type": "display_data",
          "data": {
            "image/png": "[encoded data removed]",
            "text/plain": [
              "<Figure size 432x288 with 1 Axes>"
            ]
          },
          "metadata": {
            "tags": [],
            "needs_background": "light"
          }
        }
      ]
    },
    {
      "cell_type": "markdown",
      "metadata": {
        "id": "qaOUPhcv8CYJ",
        "colab_type": "text"
      },
      "source": [
        "###3. Plot the testing error using the testing dataset at every iteration of gradient descent until convergence $J(\\theta_0, \\theta_1, \\theta_2, \\theta_3)$"
      ]
    },
    {
      "cell_type": "code",
      "metadata": {
        "id": "T4PRZbAJfSIt",
        "colab_type": "code",
        "colab": {
          "base_uri": "https://localhost:8080/",
          "height": 312
        },
        "outputId": "1c9ed174-a271-4741-d6a2-82be3d2ec731"
      },
      "source": [
        "plt.plot(j2,'r')\n",
        "print('Testing Error = ',j2[len(j2)-1])\n",
        "plt.xlabel('iterations')\n",
        "plt.ylabel('Error')\n",
        "plt.legend('J') \n",
        "plt.title('Testing Error')\n",
        "plt.show() # plot error for testing data"
      ],
      "execution_count": 4,
      "outputs": [
        {
          "output_type": "stream",
          "text": [
            "Testing Error =  1934.495161277629\n"
          ],
          "name": "stdout"
        },
        {
          "output_type": "display_data",
          "data": {
            "image/png": "[encoded data removed]",
            "text/plain": [
              "<Figure size 432x288 with 1 Axes>"
            ]
          },
          "metadata": {
            "tags": [],
            "needs_background": "light"
          }
        }
      ]
    }
  ]
}