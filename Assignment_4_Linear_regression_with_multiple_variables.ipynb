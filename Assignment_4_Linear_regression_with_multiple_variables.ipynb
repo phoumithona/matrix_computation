{
  "nbformat": 4,
  "nbformat_minor": 0,
  "metadata": {
    "colab": {
      "name": "Assignment_4 Linear regression with multiple variables",
      "provenance": [],
      "collapsed_sections": [],
      "authorship_tag": "ABX9TyP/sE7KLIQTolvKvbl+AQAD",
      "include_colab_link": true
    },
    "kernelspec": {
      "name": "python3",
      "display_name": "Python 3"
    }
  },
  "cells": [
    {
      "cell_type": "markdown",
      "metadata": {
        "id": "view-in-github",
        "colab_type": "text"
      },
      "source": [
        "<a href=\"https://colab.research.google.com/github/phoumithona/matrix_computation/blob/master/Assignment_4_Linear_regression_with_multiple_variables.ipynb\" target=\"_parent\"><img src=\"https://colab.research.google.com/assets/colab-badge.svg\" alt=\"Open In Colab\"/></a>"
      ]
    },
    {
      "cell_type": "code",
      "metadata": {
        "id": "HCheeLsYhns0",
        "colab_type": "code",
        "colab": {}
      },
      "source": [
        "import csv\n",
        "import numpy as np\n",
        "import matplotlib.pyplot as plt\n",
        "\n",
        "# training dataset\n",
        "xtrain = []\n",
        "ytrain = []\n",
        "ztrain = []\n",
        "htrain = []\n",
        "\n",
        "with open('data_train.csv', newline='') as myfile: # open data_train as 'myfile'\n",
        "    reader  = csv.reader(myfile, delimiter=',')\n",
        "    ct = 1 \n",
        "    for i in reader:\n",
        "      # print('[', ct, ']', 'x =', i[0], ', y = ', i[1], ', z = ', i[2], ', h = ', i[3])\n",
        "        xtrain.append(i[0])  \n",
        "        ytrain.append(i[1])\n",
        "        ztrain.append(i[2])  \n",
        "        htrain.append(i[3])\n",
        "        ct += 1\n",
        "\n",
        "# convert string to float\n",
        "x_train = np.array([float(i) for i in xtrain])\n",
        "y_train = np.array([float(i) for i in ytrain])\n",
        "z_train = np.array([float(i) for i in ztrain])\n",
        "h_train = np.array([float(i) for i in htrain])\n",
        "\n",
        "# testing dataset\n",
        "xtest = []\n",
        "ytest = []\n",
        "ztest = []\n",
        "htest = []\n",
        "\n",
        "with open('data_test.csv', newline='') as myfile: # open data_test as 'myfile'\n",
        "    reader  = csv.reader(myfile, delimiter=',')\n",
        "    ct = 1 \n",
        "    for i in reader:\n",
        "      # print('[', ct, ']', 'x =', i[0], ', y = ', i[1], ', z = ', i[2], ', h = ', i[3])\n",
        "        xtest.append(i[0]) \n",
        "        ytest.append(i[1])\n",
        "        ztest.append(i[2])\n",
        "        htest.append(i[3])\n",
        "        ct += 1\n",
        "        \n",
        "# convert string to float\n",
        "x_test = np.array([float(i) for i in xtest])\n",
        "y_test = np.array([float(i) for i in ytest])\n",
        "z_test = np.array([float(i) for i in ztest])\n",
        "h_test = np.array([float(i) for i in htest])"
      ],
      "execution_count": 0,
      "outputs": []
    },
    {
      "cell_type": "code",
      "metadata": {
        "id": "m38mQepN8PlH",
        "colab_type": "code",
        "cellView": "both",
        "outputId": "a8787420-e036-4ee1-99a0-fc029af1fefc",
        "colab": {
          "base_uri": "https://localhost:8080/",
          "height": 123
        }
      },
      "source": [
        "# initial value for theta_0,1,2,3\n",
        "theta_0 = 0\n",
        "theta_1 = 0\n",
        "theta_2 = 0\n",
        "theta_3 = 0\n",
        "alpha   = 0.000001       \n",
        "m       = len(htrain)  \n",
        "iterations = 10000\n",
        "\n",
        "J1= []\n",
        "J2= []\n",
        "theta0 = []\n",
        "theta1 = []\n",
        "theta2 = []\n",
        "theta3 = []\n",
        "\n",
        "for i in range (iterations):\n",
        "  # training dataset\n",
        "  f1 = theta_0 + theta_1 * x_train + theta_2 * y_train + theta_3 * z_train\n",
        "  cost1 = (1/(2*m))*(sum(f1 - h_train)**2)\n",
        "  J1.append(cost1)\n",
        "               \n",
        "  theta_0 = theta_0 - (alpha/m)*(sum(f1 - h_train))\n",
        "  theta0.append(theta_0)\n",
        "  theta_1 = theta_1 - (alpha/m)*(sum((f1 - h_train)*x_train))\n",
        "  theta1.append(theta_1)\n",
        "  theta_2 = theta_2 - (alpha/m)*(sum((f1 - h_train)*y_train))\n",
        "  theta2.append(theta_2)\n",
        "  theta_3 = theta_3 - (alpha/m)*(sum((f1 - h_train)*z_train))\n",
        "  theta3.append(theta_3)\n",
        "\n",
        "  # testing dataset\n",
        "  f2 = theta_0 + theta_1*x_test + theta_2*y_test + theta_3*z_test  \n",
        "  cost2 = (1/(2*m))*(sum(f2 - h_test)**2)\n",
        "  J2.append(cost2)\n",
        "\n",
        "  theta_0 = theta_0 - (alpha/m)*(sum(f2 - h_test))\n",
        "  theta0.append(theta_0)\n",
        "  theta_1 = theta_1 - (alpha/m)*(sum((f2 - h_test)*x_test))\n",
        "  theta1.append(theta_1)\n",
        "  theta_2 = theta_2 - (alpha/m)*(sum((f1 - h_test)*y_test))\n",
        "  theta2.append(theta_2)\n",
        "  theta_3 = theta_3 - (alpha/m)*(sum((f1 - h_test)*z_test))\n",
        "  theta3.append(theta_3)\n",
        "\n",
        "print('final theta_0 = ',theta_0)\n",
        "print('final theta_1 = ',theta_1)\n",
        "print('final theta_2 = ',theta_2)\n",
        "print('final theta_3 = ',theta_3)\n",
        "print('final cost1   = ', cost1)\n",
        "print('final cost2   = ', cost2)"
      ],
      "execution_count": 2,
      "outputs": [
        {
          "output_type": "stream",
          "text": [
            "final theta_0 =  -0.008176661396472135\n",
            "final theta_1 =  0.015238599992537644\n",
            "final theta_2 =  -2.109600071717344\n",
            "final theta_3 =  5.094115392368714\n",
            "final cost1   =  63.87231255462612\n",
            "final cost2   =  97.61079755251072\n"
          ],
          "name": "stdout"
        }
      ]
    },
    {
      "cell_type": "code",
      "metadata": {
        "id": "dGJE1cyaet4D",
        "colab_type": "code",
        "colab": {
          "base_uri": "https://localhost:8080/",
          "height": 294
        },
        "outputId": "7bc8ddbe-f32c-4c99-cae0-0551e74c3a7a"
      },
      "source": [
        "plt.plot(range(100), theta0[:100], color='k')\n",
        "plt.plot(range(100), theta1[:100], color='r')\n",
        "plt.plot(range(100), theta2[:100], color='g')\n",
        "plt.plot(range(100), theta3[:100], color='b')\n",
        "plt.xlabel('iterations')\n",
        "plt.ylabel('$\\Theta_{0,1,2,3}$')\n",
        "plt.legend(['$ \\Theta_0 $','$ \\Theta_1 $','$ \\Theta_2 $','$ \\Theta_3 $'])\n",
        "plt.title('Plot the estimated parameters using the training dataset')\n",
        "plt.show()"
      ],
      "execution_count": 3,
      "outputs": [
        {
          "output_type": "display_data",
          "data": {
            "image/png": "[encoded data removed]",
            "text/plain": [
              "<Figure size 432x288 with 1 Axes>"
            ]
          },
          "metadata": {
            "tags": [],
            "needs_background": "light"
          }
        }
      ]
    },
    {
      "cell_type": "code",
      "metadata": {
        "id": "j49MbPTR6H63",
        "colab_type": "code",
        "outputId": "3e5aebde-f81c-41d1-a7a5-9f266035bef0",
        "colab": {
          "base_uri": "https://localhost:8080/",
          "height": 312
        }
      },
      "source": [
        "plt.plot(range(100), J1[:100], color='b', label='J1')\n",
        "print('Training Error = ', cost1)\n",
        "plt.xlabel('iterations')\n",
        "plt.ylabel('Error')\n",
        "plt.legend()\n",
        "plt.title('Plot the training error using the training dataset')\n",
        "plt.show()"
      ],
      "execution_count": 4,
      "outputs": [
        {
          "output_type": "stream",
          "text": [
            "Training Error =  63.87231255462612\n"
          ],
          "name": "stdout"
        },
        {
          "output_type": "display_data",
          "data": {
            "image/png": "[encoded data removed]",
            "text/plain": [
              "<Figure size 432x288 with 1 Axes>"
            ]
          },
          "metadata": {
            "tags": [],
            "needs_background": "light"
          }
        }
      ]
    },
    {
      "cell_type": "code",
      "metadata": {
        "id": "T4PRZbAJfSIt",
        "colab_type": "code",
        "outputId": "0fc87ce8-e86a-4ca4-bb75-84d3067756d7",
        "colab": {
          "base_uri": "https://localhost:8080/",
          "height": 312
        }
      },
      "source": [
        "plt.plot(range(100), J2[:100], color='r', label='J2')\n",
        "print('Testing Error = ', cost2)\n",
        "plt.xlabel('iterations')\n",
        "plt.ylabel('Error')\n",
        "plt.legend() \n",
        "plt.title('Plot the testing error using the testing dataset')\n",
        "plt.show() "
      ],
      "execution_count": 5,
      "outputs": [
        {
          "output_type": "stream",
          "text": [
            "Testing Error =  97.61079755251072\n"
          ],
          "name": "stdout"
        },
        {
          "output_type": "display_data",
          "data": {
            "image/png": "[encoded data removed]",
            "text/plain": [
              "<Figure size 432x288 with 1 Axes>"
            ]
          },
          "metadata": {
            "tags": [],
            "needs_background": "light"
          }
        }
      ]
    }
  ]
}